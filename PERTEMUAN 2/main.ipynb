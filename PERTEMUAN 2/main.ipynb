{
 "cells": [
  {
   "cell_type": "code",
   "id": "initial_id",
   "metadata": {
    "collapsed": true,
    "ExecuteTime": {
     "end_time": "2025-09-30T02:53:00.345261Z",
     "start_time": "2025-09-30T02:52:56.335172Z"
    }
   },
   "source": [
    "import pandas as pd\n",
    "\n",
    "df = pd.read_excel('./DATA/student_depression_dataset.xlsx')\n",
    "\n",
    "df = df.reset_index(drop=True)\n",
    "df.index = df.index + 1\n",
    "\n",
    "df.head()"
   ],
   "outputs": [
    {
     "ename": "KeyboardInterrupt",
     "evalue": "",
     "output_type": "error",
     "traceback": [
      "\u001B[31m---------------------------------------------------------------------------\u001B[39m",
      "\u001B[31mKeyboardInterrupt\u001B[39m                         Traceback (most recent call last)",
      "\u001B[36mCell\u001B[39m\u001B[36m \u001B[39m\u001B[32mIn[2]\u001B[39m\u001B[32m, line 3\u001B[39m\n\u001B[32m      1\u001B[39m \u001B[38;5;28;01mimport\u001B[39;00m\u001B[38;5;250m \u001B[39m\u001B[34;01mpandas\u001B[39;00m\u001B[38;5;250m \u001B[39m\u001B[38;5;28;01mas\u001B[39;00m\u001B[38;5;250m \u001B[39m\u001B[34;01mpd\u001B[39;00m\n\u001B[32m----> \u001B[39m\u001B[32m3\u001B[39m df = \u001B[43mpd\u001B[49m\u001B[43m.\u001B[49m\u001B[43mread_excel\u001B[49m\u001B[43m(\u001B[49m\u001B[33;43m'\u001B[39;49m\u001B[33;43m./DATA/student_depression_dataset.xlsx\u001B[39;49m\u001B[33;43m'\u001B[39;49m\u001B[43m)\u001B[49m\n\u001B[32m      5\u001B[39m df = df.reset_index(drop=\u001B[38;5;28;01mTrue\u001B[39;00m)\n\u001B[32m      6\u001B[39m df.index = df.index + \u001B[32m1\u001B[39m\n",
      "\u001B[36mFile \u001B[39m\u001B[32mD:\\KULIAH\\EXPLORATORY DATA ANALYSIS\\EXPLORATORY DATA ANALYSIS\\.venv\\Lib\\site-packages\\pandas\\io\\excel\\_base.py:508\u001B[39m, in \u001B[36mread_excel\u001B[39m\u001B[34m(io, sheet_name, header, names, index_col, usecols, dtype, engine, converters, true_values, false_values, skiprows, nrows, na_values, keep_default_na, na_filter, verbose, parse_dates, date_parser, date_format, thousands, decimal, comment, skipfooter, storage_options, dtype_backend, engine_kwargs)\u001B[39m\n\u001B[32m    502\u001B[39m     \u001B[38;5;28;01mraise\u001B[39;00m \u001B[38;5;167;01mValueError\u001B[39;00m(\n\u001B[32m    503\u001B[39m         \u001B[33m\"\u001B[39m\u001B[33mEngine should not be specified when passing \u001B[39m\u001B[33m\"\u001B[39m\n\u001B[32m    504\u001B[39m         \u001B[33m\"\u001B[39m\u001B[33man ExcelFile - ExcelFile already has the engine set\u001B[39m\u001B[33m\"\u001B[39m\n\u001B[32m    505\u001B[39m     )\n\u001B[32m    507\u001B[39m \u001B[38;5;28;01mtry\u001B[39;00m:\n\u001B[32m--> \u001B[39m\u001B[32m508\u001B[39m     data = \u001B[43mio\u001B[49m\u001B[43m.\u001B[49m\u001B[43mparse\u001B[49m\u001B[43m(\u001B[49m\n\u001B[32m    509\u001B[39m \u001B[43m        \u001B[49m\u001B[43msheet_name\u001B[49m\u001B[43m=\u001B[49m\u001B[43msheet_name\u001B[49m\u001B[43m,\u001B[49m\n\u001B[32m    510\u001B[39m \u001B[43m        \u001B[49m\u001B[43mheader\u001B[49m\u001B[43m=\u001B[49m\u001B[43mheader\u001B[49m\u001B[43m,\u001B[49m\n\u001B[32m    511\u001B[39m \u001B[43m        \u001B[49m\u001B[43mnames\u001B[49m\u001B[43m=\u001B[49m\u001B[43mnames\u001B[49m\u001B[43m,\u001B[49m\n\u001B[32m    512\u001B[39m \u001B[43m        \u001B[49m\u001B[43mindex_col\u001B[49m\u001B[43m=\u001B[49m\u001B[43mindex_col\u001B[49m\u001B[43m,\u001B[49m\n\u001B[32m    513\u001B[39m \u001B[43m        \u001B[49m\u001B[43musecols\u001B[49m\u001B[43m=\u001B[49m\u001B[43musecols\u001B[49m\u001B[43m,\u001B[49m\n\u001B[32m    514\u001B[39m \u001B[43m        \u001B[49m\u001B[43mdtype\u001B[49m\u001B[43m=\u001B[49m\u001B[43mdtype\u001B[49m\u001B[43m,\u001B[49m\n\u001B[32m    515\u001B[39m \u001B[43m        \u001B[49m\u001B[43mconverters\u001B[49m\u001B[43m=\u001B[49m\u001B[43mconverters\u001B[49m\u001B[43m,\u001B[49m\n\u001B[32m    516\u001B[39m \u001B[43m        \u001B[49m\u001B[43mtrue_values\u001B[49m\u001B[43m=\u001B[49m\u001B[43mtrue_values\u001B[49m\u001B[43m,\u001B[49m\n\u001B[32m    517\u001B[39m \u001B[43m        \u001B[49m\u001B[43mfalse_values\u001B[49m\u001B[43m=\u001B[49m\u001B[43mfalse_values\u001B[49m\u001B[43m,\u001B[49m\n\u001B[32m    518\u001B[39m \u001B[43m        \u001B[49m\u001B[43mskiprows\u001B[49m\u001B[43m=\u001B[49m\u001B[43mskiprows\u001B[49m\u001B[43m,\u001B[49m\n\u001B[32m    519\u001B[39m \u001B[43m        \u001B[49m\u001B[43mnrows\u001B[49m\u001B[43m=\u001B[49m\u001B[43mnrows\u001B[49m\u001B[43m,\u001B[49m\n\u001B[32m    520\u001B[39m \u001B[43m        \u001B[49m\u001B[43mna_values\u001B[49m\u001B[43m=\u001B[49m\u001B[43mna_values\u001B[49m\u001B[43m,\u001B[49m\n\u001B[32m    521\u001B[39m \u001B[43m        \u001B[49m\u001B[43mkeep_default_na\u001B[49m\u001B[43m=\u001B[49m\u001B[43mkeep_default_na\u001B[49m\u001B[43m,\u001B[49m\n\u001B[32m    522\u001B[39m \u001B[43m        \u001B[49m\u001B[43mna_filter\u001B[49m\u001B[43m=\u001B[49m\u001B[43mna_filter\u001B[49m\u001B[43m,\u001B[49m\n\u001B[32m    523\u001B[39m \u001B[43m        \u001B[49m\u001B[43mverbose\u001B[49m\u001B[43m=\u001B[49m\u001B[43mverbose\u001B[49m\u001B[43m,\u001B[49m\n\u001B[32m    524\u001B[39m \u001B[43m        \u001B[49m\u001B[43mparse_dates\u001B[49m\u001B[43m=\u001B[49m\u001B[43mparse_dates\u001B[49m\u001B[43m,\u001B[49m\n\u001B[32m    525\u001B[39m \u001B[43m        \u001B[49m\u001B[43mdate_parser\u001B[49m\u001B[43m=\u001B[49m\u001B[43mdate_parser\u001B[49m\u001B[43m,\u001B[49m\n\u001B[32m    526\u001B[39m \u001B[43m        \u001B[49m\u001B[43mdate_format\u001B[49m\u001B[43m=\u001B[49m\u001B[43mdate_format\u001B[49m\u001B[43m,\u001B[49m\n\u001B[32m    527\u001B[39m \u001B[43m        \u001B[49m\u001B[43mthousands\u001B[49m\u001B[43m=\u001B[49m\u001B[43mthousands\u001B[49m\u001B[43m,\u001B[49m\n\u001B[32m    528\u001B[39m \u001B[43m        \u001B[49m\u001B[43mdecimal\u001B[49m\u001B[43m=\u001B[49m\u001B[43mdecimal\u001B[49m\u001B[43m,\u001B[49m\n\u001B[32m    529\u001B[39m \u001B[43m        \u001B[49m\u001B[43mcomment\u001B[49m\u001B[43m=\u001B[49m\u001B[43mcomment\u001B[49m\u001B[43m,\u001B[49m\n\u001B[32m    530\u001B[39m \u001B[43m        \u001B[49m\u001B[43mskipfooter\u001B[49m\u001B[43m=\u001B[49m\u001B[43mskipfooter\u001B[49m\u001B[43m,\u001B[49m\n\u001B[32m    531\u001B[39m \u001B[43m        \u001B[49m\u001B[43mdtype_backend\u001B[49m\u001B[43m=\u001B[49m\u001B[43mdtype_backend\u001B[49m\u001B[43m,\u001B[49m\n\u001B[32m    532\u001B[39m \u001B[43m    \u001B[49m\u001B[43m)\u001B[49m\n\u001B[32m    533\u001B[39m \u001B[38;5;28;01mfinally\u001B[39;00m:\n\u001B[32m    534\u001B[39m     \u001B[38;5;66;03m# make sure to close opened file handles\u001B[39;00m\n\u001B[32m    535\u001B[39m     \u001B[38;5;28;01mif\u001B[39;00m should_close:\n",
      "\u001B[36mFile \u001B[39m\u001B[32mD:\\KULIAH\\EXPLORATORY DATA ANALYSIS\\EXPLORATORY DATA ANALYSIS\\.venv\\Lib\\site-packages\\pandas\\io\\excel\\_base.py:1616\u001B[39m, in \u001B[36mExcelFile.parse\u001B[39m\u001B[34m(self, sheet_name, header, names, index_col, usecols, converters, true_values, false_values, skiprows, nrows, na_values, parse_dates, date_parser, date_format, thousands, comment, skipfooter, dtype_backend, **kwds)\u001B[39m\n\u001B[32m   1576\u001B[39m \u001B[38;5;28;01mdef\u001B[39;00m\u001B[38;5;250m \u001B[39m\u001B[34mparse\u001B[39m(\n\u001B[32m   1577\u001B[39m     \u001B[38;5;28mself\u001B[39m,\n\u001B[32m   1578\u001B[39m     sheet_name: \u001B[38;5;28mstr\u001B[39m | \u001B[38;5;28mint\u001B[39m | \u001B[38;5;28mlist\u001B[39m[\u001B[38;5;28mint\u001B[39m] | \u001B[38;5;28mlist\u001B[39m[\u001B[38;5;28mstr\u001B[39m] | \u001B[38;5;28;01mNone\u001B[39;00m = \u001B[32m0\u001B[39m,\n\u001B[32m   (...)\u001B[39m\u001B[32m   1596\u001B[39m     **kwds,\n\u001B[32m   1597\u001B[39m ) -> DataFrame | \u001B[38;5;28mdict\u001B[39m[\u001B[38;5;28mstr\u001B[39m, DataFrame] | \u001B[38;5;28mdict\u001B[39m[\u001B[38;5;28mint\u001B[39m, DataFrame]:\n\u001B[32m   1598\u001B[39m \u001B[38;5;250m    \u001B[39m\u001B[33;03m\"\"\"\u001B[39;00m\n\u001B[32m   1599\u001B[39m \u001B[33;03m    Parse specified sheet(s) into a DataFrame.\u001B[39;00m\n\u001B[32m   1600\u001B[39m \n\u001B[32m   (...)\u001B[39m\u001B[32m   1614\u001B[39m \u001B[33;03m    >>> file.parse()  # doctest: +SKIP\u001B[39;00m\n\u001B[32m   1615\u001B[39m \u001B[33;03m    \"\"\"\u001B[39;00m\n\u001B[32m-> \u001B[39m\u001B[32m1616\u001B[39m     \u001B[38;5;28;01mreturn\u001B[39;00m \u001B[38;5;28;43mself\u001B[39;49m\u001B[43m.\u001B[49m\u001B[43m_reader\u001B[49m\u001B[43m.\u001B[49m\u001B[43mparse\u001B[49m\u001B[43m(\u001B[49m\n\u001B[32m   1617\u001B[39m \u001B[43m        \u001B[49m\u001B[43msheet_name\u001B[49m\u001B[43m=\u001B[49m\u001B[43msheet_name\u001B[49m\u001B[43m,\u001B[49m\n\u001B[32m   1618\u001B[39m \u001B[43m        \u001B[49m\u001B[43mheader\u001B[49m\u001B[43m=\u001B[49m\u001B[43mheader\u001B[49m\u001B[43m,\u001B[49m\n\u001B[32m   1619\u001B[39m \u001B[43m        \u001B[49m\u001B[43mnames\u001B[49m\u001B[43m=\u001B[49m\u001B[43mnames\u001B[49m\u001B[43m,\u001B[49m\n\u001B[32m   1620\u001B[39m \u001B[43m        \u001B[49m\u001B[43mindex_col\u001B[49m\u001B[43m=\u001B[49m\u001B[43mindex_col\u001B[49m\u001B[43m,\u001B[49m\n\u001B[32m   1621\u001B[39m \u001B[43m        \u001B[49m\u001B[43musecols\u001B[49m\u001B[43m=\u001B[49m\u001B[43musecols\u001B[49m\u001B[43m,\u001B[49m\n\u001B[32m   1622\u001B[39m \u001B[43m        \u001B[49m\u001B[43mconverters\u001B[49m\u001B[43m=\u001B[49m\u001B[43mconverters\u001B[49m\u001B[43m,\u001B[49m\n\u001B[32m   1623\u001B[39m \u001B[43m        \u001B[49m\u001B[43mtrue_values\u001B[49m\u001B[43m=\u001B[49m\u001B[43mtrue_values\u001B[49m\u001B[43m,\u001B[49m\n\u001B[32m   1624\u001B[39m \u001B[43m        \u001B[49m\u001B[43mfalse_values\u001B[49m\u001B[43m=\u001B[49m\u001B[43mfalse_values\u001B[49m\u001B[43m,\u001B[49m\n\u001B[32m   1625\u001B[39m \u001B[43m        \u001B[49m\u001B[43mskiprows\u001B[49m\u001B[43m=\u001B[49m\u001B[43mskiprows\u001B[49m\u001B[43m,\u001B[49m\n\u001B[32m   1626\u001B[39m \u001B[43m        \u001B[49m\u001B[43mnrows\u001B[49m\u001B[43m=\u001B[49m\u001B[43mnrows\u001B[49m\u001B[43m,\u001B[49m\n\u001B[32m   1627\u001B[39m \u001B[43m        \u001B[49m\u001B[43mna_values\u001B[49m\u001B[43m=\u001B[49m\u001B[43mna_values\u001B[49m\u001B[43m,\u001B[49m\n\u001B[32m   1628\u001B[39m \u001B[43m        \u001B[49m\u001B[43mparse_dates\u001B[49m\u001B[43m=\u001B[49m\u001B[43mparse_dates\u001B[49m\u001B[43m,\u001B[49m\n\u001B[32m   1629\u001B[39m \u001B[43m        \u001B[49m\u001B[43mdate_parser\u001B[49m\u001B[43m=\u001B[49m\u001B[43mdate_parser\u001B[49m\u001B[43m,\u001B[49m\n\u001B[32m   1630\u001B[39m \u001B[43m        \u001B[49m\u001B[43mdate_format\u001B[49m\u001B[43m=\u001B[49m\u001B[43mdate_format\u001B[49m\u001B[43m,\u001B[49m\n\u001B[32m   1631\u001B[39m \u001B[43m        \u001B[49m\u001B[43mthousands\u001B[49m\u001B[43m=\u001B[49m\u001B[43mthousands\u001B[49m\u001B[43m,\u001B[49m\n\u001B[32m   1632\u001B[39m \u001B[43m        \u001B[49m\u001B[43mcomment\u001B[49m\u001B[43m=\u001B[49m\u001B[43mcomment\u001B[49m\u001B[43m,\u001B[49m\n\u001B[32m   1633\u001B[39m \u001B[43m        \u001B[49m\u001B[43mskipfooter\u001B[49m\u001B[43m=\u001B[49m\u001B[43mskipfooter\u001B[49m\u001B[43m,\u001B[49m\n\u001B[32m   1634\u001B[39m \u001B[43m        \u001B[49m\u001B[43mdtype_backend\u001B[49m\u001B[43m=\u001B[49m\u001B[43mdtype_backend\u001B[49m\u001B[43m,\u001B[49m\n\u001B[32m   1635\u001B[39m \u001B[43m        \u001B[49m\u001B[43m*\u001B[49m\u001B[43m*\u001B[49m\u001B[43mkwds\u001B[49m\u001B[43m,\u001B[49m\n\u001B[32m   1636\u001B[39m \u001B[43m    \u001B[49m\u001B[43m)\u001B[49m\n",
      "\u001B[36mFile \u001B[39m\u001B[32mD:\\KULIAH\\EXPLORATORY DATA ANALYSIS\\EXPLORATORY DATA ANALYSIS\\.venv\\Lib\\site-packages\\pandas\\io\\excel\\_base.py:778\u001B[39m, in \u001B[36mBaseExcelReader.parse\u001B[39m\u001B[34m(self, sheet_name, header, names, index_col, usecols, dtype, true_values, false_values, skiprows, nrows, na_values, verbose, parse_dates, date_parser, date_format, thousands, decimal, comment, skipfooter, dtype_backend, **kwds)\u001B[39m\n\u001B[32m    775\u001B[39m     sheet = \u001B[38;5;28mself\u001B[39m.get_sheet_by_index(asheetname)\n\u001B[32m    777\u001B[39m file_rows_needed = \u001B[38;5;28mself\u001B[39m._calc_rows(header, index_col, skiprows, nrows)\n\u001B[32m--> \u001B[39m\u001B[32m778\u001B[39m data = \u001B[38;5;28;43mself\u001B[39;49m\u001B[43m.\u001B[49m\u001B[43mget_sheet_data\u001B[49m\u001B[43m(\u001B[49m\u001B[43msheet\u001B[49m\u001B[43m,\u001B[49m\u001B[43m \u001B[49m\u001B[43mfile_rows_needed\u001B[49m\u001B[43m)\u001B[49m\n\u001B[32m    779\u001B[39m \u001B[38;5;28;01mif\u001B[39;00m \u001B[38;5;28mhasattr\u001B[39m(sheet, \u001B[33m\"\u001B[39m\u001B[33mclose\u001B[39m\u001B[33m\"\u001B[39m):\n\u001B[32m    780\u001B[39m     \u001B[38;5;66;03m# pyxlsb opens two TemporaryFiles\u001B[39;00m\n\u001B[32m    781\u001B[39m     sheet.close()\n",
      "\u001B[36mFile \u001B[39m\u001B[32mD:\\KULIAH\\EXPLORATORY DATA ANALYSIS\\EXPLORATORY DATA ANALYSIS\\.venv\\Lib\\site-packages\\pandas\\io\\excel\\_openpyxl.py:615\u001B[39m, in \u001B[36mOpenpyxlReader.get_sheet_data\u001B[39m\u001B[34m(self, sheet, file_rows_needed)\u001B[39m\n\u001B[32m    613\u001B[39m data: \u001B[38;5;28mlist\u001B[39m[\u001B[38;5;28mlist\u001B[39m[Scalar]] = []\n\u001B[32m    614\u001B[39m last_row_with_data = -\u001B[32m1\u001B[39m\n\u001B[32m--> \u001B[39m\u001B[32m615\u001B[39m \u001B[43m\u001B[49m\u001B[38;5;28;43;01mfor\u001B[39;49;00m\u001B[43m \u001B[49m\u001B[43mrow_number\u001B[49m\u001B[43m,\u001B[49m\u001B[43m \u001B[49m\u001B[43mrow\u001B[49m\u001B[43m \u001B[49m\u001B[38;5;129;43;01min\u001B[39;49;00m\u001B[43m \u001B[49m\u001B[38;5;28;43menumerate\u001B[39;49m\u001B[43m(\u001B[49m\u001B[43msheet\u001B[49m\u001B[43m.\u001B[49m\u001B[43mrows\u001B[49m\u001B[43m)\u001B[49m\u001B[43m:\u001B[49m\n\u001B[32m    616\u001B[39m \u001B[43m    \u001B[49m\u001B[43mconverted_row\u001B[49m\u001B[43m \u001B[49m\u001B[43m=\u001B[49m\u001B[43m \u001B[49m\u001B[43m[\u001B[49m\u001B[38;5;28;43mself\u001B[39;49m\u001B[43m.\u001B[49m\u001B[43m_convert_cell\u001B[49m\u001B[43m(\u001B[49m\u001B[43mcell\u001B[49m\u001B[43m)\u001B[49m\u001B[43m \u001B[49m\u001B[38;5;28;43;01mfor\u001B[39;49;00m\u001B[43m \u001B[49m\u001B[43mcell\u001B[49m\u001B[43m \u001B[49m\u001B[38;5;129;43;01min\u001B[39;49;00m\u001B[43m \u001B[49m\u001B[43mrow\u001B[49m\u001B[43m]\u001B[49m\n\u001B[32m    617\u001B[39m \u001B[43m    \u001B[49m\u001B[38;5;28;43;01mwhile\u001B[39;49;00m\u001B[43m \u001B[49m\u001B[43mconverted_row\u001B[49m\u001B[43m \u001B[49m\u001B[38;5;129;43;01mand\u001B[39;49;00m\u001B[43m \u001B[49m\u001B[43mconverted_row\u001B[49m\u001B[43m[\u001B[49m\u001B[43m-\u001B[49m\u001B[32;43m1\u001B[39;49m\u001B[43m]\u001B[49m\u001B[43m \u001B[49m\u001B[43m==\u001B[49m\u001B[43m \u001B[49m\u001B[33;43m\"\u001B[39;49m\u001B[33;43m\"\u001B[39;49m\u001B[43m:\u001B[49m\n\u001B[32m    618\u001B[39m \u001B[43m        \u001B[49m\u001B[38;5;66;43;03m# trim trailing empty elements\u001B[39;49;00m\n",
      "\u001B[36mFile \u001B[39m\u001B[32mD:\\KULIAH\\EXPLORATORY DATA ANALYSIS\\EXPLORATORY DATA ANALYSIS\\.venv\\Lib\\site-packages\\openpyxl\\worksheet\\_read_only.py:85\u001B[39m, in \u001B[36mReadOnlyWorksheet._cells_by_row\u001B[39m\u001B[34m(self, min_col, min_row, max_col, max_row, values_only)\u001B[39m\n\u001B[32m     77\u001B[39m \u001B[38;5;28;01mwith\u001B[39;00m \u001B[38;5;28mself\u001B[39m._get_source() \u001B[38;5;28;01mas\u001B[39;00m src:\n\u001B[32m     78\u001B[39m     parser = WorkSheetParser(src,\n\u001B[32m     79\u001B[39m                              \u001B[38;5;28mself\u001B[39m._shared_strings,\n\u001B[32m     80\u001B[39m                              data_only=\u001B[38;5;28mself\u001B[39m.parent.data_only,\n\u001B[32m     81\u001B[39m                              epoch=\u001B[38;5;28mself\u001B[39m.parent.epoch,\n\u001B[32m     82\u001B[39m                              date_formats=\u001B[38;5;28mself\u001B[39m.parent._date_formats,\n\u001B[32m     83\u001B[39m                              timedelta_formats=\u001B[38;5;28mself\u001B[39m.parent._timedelta_formats)\n\u001B[32m---> \u001B[39m\u001B[32m85\u001B[39m \u001B[43m    \u001B[49m\u001B[38;5;28;43;01mfor\u001B[39;49;00m\u001B[43m \u001B[49m\u001B[43midx\u001B[49m\u001B[43m,\u001B[49m\u001B[43m \u001B[49m\u001B[43mrow\u001B[49m\u001B[43m \u001B[49m\u001B[38;5;129;43;01min\u001B[39;49;00m\u001B[43m \u001B[49m\u001B[43mparser\u001B[49m\u001B[43m.\u001B[49m\u001B[43mparse\u001B[49m\u001B[43m(\u001B[49m\u001B[43m)\u001B[49m\u001B[43m:\u001B[49m\n\u001B[32m     86\u001B[39m \u001B[43m        \u001B[49m\u001B[38;5;28;43;01mif\u001B[39;49;00m\u001B[43m \u001B[49m\u001B[43mmax_row\u001B[49m\u001B[43m \u001B[49m\u001B[38;5;129;43;01mis\u001B[39;49;00m\u001B[43m \u001B[49m\u001B[38;5;129;43;01mnot\u001B[39;49;00m\u001B[43m \u001B[49m\u001B[38;5;28;43;01mNone\u001B[39;49;00m\u001B[43m \u001B[49m\u001B[38;5;129;43;01mand\u001B[39;49;00m\u001B[43m \u001B[49m\u001B[43midx\u001B[49m\u001B[43m \u001B[49m\u001B[43m>\u001B[49m\u001B[43m \u001B[49m\u001B[43mmax_row\u001B[49m\u001B[43m:\u001B[49m\n\u001B[32m     87\u001B[39m \u001B[43m            \u001B[49m\u001B[38;5;28;43;01mbreak\u001B[39;49;00m\n",
      "\u001B[36mFile \u001B[39m\u001B[32mD:\\KULIAH\\EXPLORATORY DATA ANALYSIS\\EXPLORATORY DATA ANALYSIS\\.venv\\Lib\\site-packages\\openpyxl\\worksheet\\_reader.py:156\u001B[39m, in \u001B[36mWorkSheetParser.parse\u001B[39m\u001B[34m(self)\u001B[39m\n\u001B[32m    137\u001B[39m properties = {\n\u001B[32m    138\u001B[39m     PRINT_TAG: (\u001B[33m'\u001B[39m\u001B[33mprint_options\u001B[39m\u001B[33m'\u001B[39m, PrintOptions),\n\u001B[32m    139\u001B[39m     MARGINS_TAG: (\u001B[33m'\u001B[39m\u001B[33mpage_margins\u001B[39m\u001B[33m'\u001B[39m, PageMargins),\n\u001B[32m   (...)\u001B[39m\u001B[32m    151\u001B[39m \n\u001B[32m    152\u001B[39m }\n\u001B[32m    154\u001B[39m it = iterparse(\u001B[38;5;28mself\u001B[39m.source) \u001B[38;5;66;03m# add a finaliser to close the source when this becomes possible\u001B[39;00m\n\u001B[32m--> \u001B[39m\u001B[32m156\u001B[39m \u001B[43m\u001B[49m\u001B[38;5;28;43;01mfor\u001B[39;49;00m\u001B[43m \u001B[49m\u001B[43m_\u001B[49m\u001B[43m,\u001B[49m\u001B[43m \u001B[49m\u001B[43melement\u001B[49m\u001B[43m \u001B[49m\u001B[38;5;129;43;01min\u001B[39;49;00m\u001B[43m \u001B[49m\u001B[43mit\u001B[49m\u001B[43m:\u001B[49m\n\u001B[32m    157\u001B[39m \u001B[43m    \u001B[49m\u001B[43mtag_name\u001B[49m\u001B[43m \u001B[49m\u001B[43m=\u001B[49m\u001B[43m \u001B[49m\u001B[43melement\u001B[49m\u001B[43m.\u001B[49m\u001B[43mtag\u001B[49m\n\u001B[32m    158\u001B[39m \u001B[43m    \u001B[49m\u001B[38;5;28;43;01mif\u001B[39;49;00m\u001B[43m \u001B[49m\u001B[43mtag_name\u001B[49m\u001B[43m \u001B[49m\u001B[38;5;129;43;01min\u001B[39;49;00m\u001B[43m \u001B[49m\u001B[43mdispatcher\u001B[49m\u001B[43m:\u001B[49m\n",
      "\u001B[36mFile \u001B[39m\u001B[32mC:\\Program Files\\WindowsApps\\PythonSoftwareFoundation.Python.3.13_3.13.2032.0_x64__qbz5n2kfra8p0\\Lib\\xml\\etree\\ElementTree.py:1244\u001B[39m, in \u001B[36miterparse.<locals>.iterator\u001B[39m\u001B[34m(source)\u001B[39m\n\u001B[32m   1242\u001B[39m \u001B[38;5;28;01myield from\u001B[39;00m pullparser.read_events()\n\u001B[32m   1243\u001B[39m \u001B[38;5;66;03m# load event buffer\u001B[39;00m\n\u001B[32m-> \u001B[39m\u001B[32m1244\u001B[39m data = \u001B[43msource\u001B[49m\u001B[43m.\u001B[49m\u001B[43mread\u001B[49m\u001B[43m(\u001B[49m\u001B[32;43m16\u001B[39;49m\u001B[43m \u001B[49m\u001B[43m*\u001B[49m\u001B[43m \u001B[49m\u001B[32;43m1024\u001B[39;49m\u001B[43m)\u001B[49m\n\u001B[32m   1245\u001B[39m \u001B[38;5;28;01mif\u001B[39;00m \u001B[38;5;129;01mnot\u001B[39;00m data:\n\u001B[32m   1246\u001B[39m     \u001B[38;5;28;01mbreak\u001B[39;00m\n",
      "\u001B[36mFile \u001B[39m\u001B[32mC:\\Program Files\\WindowsApps\\PythonSoftwareFoundation.Python.3.13_3.13.2032.0_x64__qbz5n2kfra8p0\\Lib\\zipfile\\__init__.py:1015\u001B[39m, in \u001B[36mZipExtFile.read\u001B[39m\u001B[34m(self, n)\u001B[39m\n\u001B[32m   1013\u001B[39m \u001B[38;5;28mself\u001B[39m._offset = \u001B[32m0\u001B[39m\n\u001B[32m   1014\u001B[39m \u001B[38;5;28;01mwhile\u001B[39;00m n > \u001B[32m0\u001B[39m \u001B[38;5;129;01mand\u001B[39;00m \u001B[38;5;129;01mnot\u001B[39;00m \u001B[38;5;28mself\u001B[39m._eof:\n\u001B[32m-> \u001B[39m\u001B[32m1015\u001B[39m     data = \u001B[38;5;28;43mself\u001B[39;49m\u001B[43m.\u001B[49m\u001B[43m_read1\u001B[49m\u001B[43m(\u001B[49m\u001B[43mn\u001B[49m\u001B[43m)\u001B[49m\n\u001B[32m   1016\u001B[39m     \u001B[38;5;28;01mif\u001B[39;00m n < \u001B[38;5;28mlen\u001B[39m(data):\n\u001B[32m   1017\u001B[39m         \u001B[38;5;28mself\u001B[39m._readbuffer = data\n",
      "\u001B[36mFile \u001B[39m\u001B[32mC:\\Program Files\\WindowsApps\\PythonSoftwareFoundation.Python.3.13_3.13.2032.0_x64__qbz5n2kfra8p0\\Lib\\zipfile\\__init__.py:1091\u001B[39m, in \u001B[36mZipExtFile._read1\u001B[39m\u001B[34m(self, n)\u001B[39m\n\u001B[32m   1089\u001B[39m \u001B[38;5;28;01melif\u001B[39;00m \u001B[38;5;28mself\u001B[39m._compress_type == ZIP_DEFLATED:\n\u001B[32m   1090\u001B[39m     n = \u001B[38;5;28mmax\u001B[39m(n, \u001B[38;5;28mself\u001B[39m.MIN_READ_SIZE)\n\u001B[32m-> \u001B[39m\u001B[32m1091\u001B[39m     data = \u001B[38;5;28;43mself\u001B[39;49m\u001B[43m.\u001B[49m\u001B[43m_decompressor\u001B[49m\u001B[43m.\u001B[49m\u001B[43mdecompress\u001B[49m\u001B[43m(\u001B[49m\u001B[43mdata\u001B[49m\u001B[43m,\u001B[49m\u001B[43m \u001B[49m\u001B[43mn\u001B[49m\u001B[43m)\u001B[49m\n\u001B[32m   1092\u001B[39m     \u001B[38;5;28mself\u001B[39m._eof = (\u001B[38;5;28mself\u001B[39m._decompressor.eof \u001B[38;5;129;01mor\u001B[39;00m\n\u001B[32m   1093\u001B[39m                  \u001B[38;5;28mself\u001B[39m._compress_left <= \u001B[32m0\u001B[39m \u001B[38;5;129;01mand\u001B[39;00m\n\u001B[32m   1094\u001B[39m                  \u001B[38;5;129;01mnot\u001B[39;00m \u001B[38;5;28mself\u001B[39m._decompressor.unconsumed_tail)\n\u001B[32m   1095\u001B[39m     \u001B[38;5;28;01mif\u001B[39;00m \u001B[38;5;28mself\u001B[39m._eof:\n",
      "\u001B[31mKeyboardInterrupt\u001B[39m: "
     ]
    }
   ],
   "execution_count": 2
  },
  {
   "metadata": {
    "ExecuteTime": {
     "end_time": "2025-09-30T02:14:55.705574Z",
     "start_time": "2025-09-30T02:14:55.701971Z"
    }
   },
   "cell_type": "code",
   "source": [
    "# Cek ukuran dataset\n",
    "\n",
    "print(\"Ukuran dataset (baris, kolom):\", df.shape)\n",
    "\n",
    "# Cek jumlah total elemen data\n",
    "print(\"Jumlah total elemen data:\", df.size)"
   ],
   "id": "fc6e4c7bfd7c7dde",
   "outputs": [
    {
     "name": "stdout",
     "output_type": "stream",
     "text": [
      "Ukuran dataset (baris, kolom): (27901, 18)\n",
      "Jumlah total data: 502218\n"
     ]
    }
   ],
   "execution_count": 8
  },
  {
   "metadata": {
    "ExecuteTime": {
     "end_time": "2025-09-30T02:18:02.366265Z",
     "start_time": "2025-09-30T02:18:02.315588Z"
    }
   },
   "cell_type": "code",
   "source": [
    "# Cek tipe data sebuah variable\n",
    "\n",
    "my_variable = \"Hello\"\n",
    "\n",
    "print(\"Tipe data my_variable:\", type(my_variable))\n",
    "\n",
    "my_number = 123\n",
    "print(\"Tipe data my_number:\", type(my_number))\n",
    "\n",
    "# Cek tipe data setiap kolom dalam DataFrame\n",
    "print(\"Tipe data setiap kolom dalam DataFrame:\")\n",
    "print(df.dtypes)"
   ],
   "id": "73abed6b1fee19a5",
   "outputs": [
    {
     "name": "stdout",
     "output_type": "stream",
     "text": [
      "Tipe data my_variable: <class 'str'>\n",
      "Tipe data my_number: <class 'int'>\n",
      "Tipe data setiap kolom dalam DataFrame:\n",
      "id                                         int64\n",
      "Gender                                    object\n",
      "Age                                        int64\n",
      "City                                      object\n",
      "Profession                                object\n",
      "Academic Pressure                          int64\n",
      "Work Pressure                              int64\n",
      "CGPA                                     float64\n",
      "Study Satisfaction                         int64\n",
      "Job Satisfaction                           int64\n",
      "Sleep Duration                            object\n",
      "Dietary Habits                            object\n",
      "Degree                                    object\n",
      "Have you ever had suicidal thoughts ?     object\n",
      "Work/Study Hours                           int64\n",
      "Financial Stress                          object\n",
      "Family History of Mental Illness          object\n",
      "Depression                                 int64\n",
      "dtype: object\n"
     ]
    }
   ],
   "execution_count": 11
  },
  {
   "metadata": {
    "ExecuteTime": {
     "end_time": "2025-09-30T02:18:50.748147Z",
     "start_time": "2025-09-30T02:18:50.737474Z"
    }
   },
   "cell_type": "code",
   "source": [
    "# Cek missing values\n",
    "\n",
    "missing_values = df.isnull().sum()\n",
    "print(\"Jumlah missing values per kolom:\")\n",
    "print(missing_values)\n"
   ],
   "id": "9106c11c1f1f8462",
   "outputs": [
    {
     "name": "stdout",
     "output_type": "stream",
     "text": [
      "Jumlah missing values per kolom:\n",
      "id                                       0\n",
      "Gender                                   0\n",
      "Age                                      0\n",
      "City                                     0\n",
      "Profession                               0\n",
      "Academic Pressure                        0\n",
      "Work Pressure                            0\n",
      "CGPA                                     0\n",
      "Study Satisfaction                       0\n",
      "Job Satisfaction                         0\n",
      "Sleep Duration                           0\n",
      "Dietary Habits                           0\n",
      "Degree                                   0\n",
      "Have you ever had suicidal thoughts ?    0\n",
      "Work/Study Hours                         0\n",
      "Financial Stress                         0\n",
      "Family History of Mental Illness         0\n",
      "Depression                               0\n",
      "dtype: int64\n"
     ]
    }
   ],
   "execution_count": 12
  },
  {
   "metadata": {
    "ExecuteTime": {
     "end_time": "2025-09-30T02:21:41.330573Z",
     "start_time": "2025-09-30T02:21:41.312037Z"
    }
   },
   "cell_type": "code",
   "source": [
    "# Cek duplikasi data\n",
    "duplocate_rows = df.duplicated().sum()\n",
    "\n",
    "print(\"Jumlah baris duplikat:\", duplocate_rows)\n",
    "\n",
    "# Jika ada baris duplikat, tampilkan beberapa baris duplikat pertama\n",
    "\n",
    "if duplocate_rows > 0:\n",
    "    print(\"Beberapa baris duplikat pertama:\")\n",
    "    print(df[df.duplicated(keep=False)].head())"
   ],
   "id": "2c7991e362124cfb",
   "outputs": [
    {
     "name": "stdout",
     "output_type": "stream",
     "text": [
      "Jumlah baris duplikat: 0\n"
     ]
    }
   ],
   "execution_count": 14
  },
  {
   "metadata": {},
   "cell_type": "markdown",
   "source": "# Data Bermasalah",
   "id": "e3aa996b1fa9ff78"
  },
  {
   "metadata": {
    "ExecuteTime": {
     "end_time": "2025-09-30T02:53:07.153636Z",
     "start_time": "2025-09-30T02:53:07.111897Z"
    }
   },
   "cell_type": "code",
   "source": [
    "import pandas as pd\n",
    "\n",
    "df_bermasalah = pd.read_excel(\"./DATA/contoh_data_bermasalah.xlsx\")\n",
    "\n",
    "df_bermasalah = df_bermasalah.reset_index(drop=True)\n",
    "df_bermasalah.index = df_bermasalah.index + 1\n",
    "\n",
    "df_bermasalah.head()"
   ],
   "id": "2458934560436515",
   "outputs": [
    {
     "data": {
      "text/plain": [
       "    ID          Nama  Usia        Kota  Pendapatan       Status Tanggal Daftar\n",
       "1  118  Pengguna_118    51  Yogyakarta     9819256        Aktif     2023-06-26\n",
       "2   29   Pengguna_29    37     Jakarta     4991886        Aktif     2023-07-20\n",
       "3  119  Pengguna_119    31       Medan    19094979        Aktif     2023-05-17\n",
       "4   44   Pengguna_44    54    Makassar    15843052  Tidak Aktif     2023-05-10\n",
       "5  124  Pengguna_124    26     Bandung    86377074      Pending     2023-05-05"
      ],
      "text/html": [
       "<div>\n",
       "<style scoped>\n",
       "    .dataframe tbody tr th:only-of-type {\n",
       "        vertical-align: middle;\n",
       "    }\n",
       "\n",
       "    .dataframe tbody tr th {\n",
       "        vertical-align: top;\n",
       "    }\n",
       "\n",
       "    .dataframe thead th {\n",
       "        text-align: right;\n",
       "    }\n",
       "</style>\n",
       "<table border=\"1\" class=\"dataframe\">\n",
       "  <thead>\n",
       "    <tr style=\"text-align: right;\">\n",
       "      <th></th>\n",
       "      <th>ID</th>\n",
       "      <th>Nama</th>\n",
       "      <th>Usia</th>\n",
       "      <th>Kota</th>\n",
       "      <th>Pendapatan</th>\n",
       "      <th>Status</th>\n",
       "      <th>Tanggal Daftar</th>\n",
       "    </tr>\n",
       "  </thead>\n",
       "  <tbody>\n",
       "    <tr>\n",
       "      <th>1</th>\n",
       "      <td>118</td>\n",
       "      <td>Pengguna_118</td>\n",
       "      <td>51</td>\n",
       "      <td>Yogyakarta</td>\n",
       "      <td>9819256</td>\n",
       "      <td>Aktif</td>\n",
       "      <td>2023-06-26</td>\n",
       "    </tr>\n",
       "    <tr>\n",
       "      <th>2</th>\n",
       "      <td>29</td>\n",
       "      <td>Pengguna_29</td>\n",
       "      <td>37</td>\n",
       "      <td>Jakarta</td>\n",
       "      <td>4991886</td>\n",
       "      <td>Aktif</td>\n",
       "      <td>2023-07-20</td>\n",
       "    </tr>\n",
       "    <tr>\n",
       "      <th>3</th>\n",
       "      <td>119</td>\n",
       "      <td>Pengguna_119</td>\n",
       "      <td>31</td>\n",
       "      <td>Medan</td>\n",
       "      <td>19094979</td>\n",
       "      <td>Aktif</td>\n",
       "      <td>2023-05-17</td>\n",
       "    </tr>\n",
       "    <tr>\n",
       "      <th>4</th>\n",
       "      <td>44</td>\n",
       "      <td>Pengguna_44</td>\n",
       "      <td>54</td>\n",
       "      <td>Makassar</td>\n",
       "      <td>15843052</td>\n",
       "      <td>Tidak Aktif</td>\n",
       "      <td>2023-05-10</td>\n",
       "    </tr>\n",
       "    <tr>\n",
       "      <th>5</th>\n",
       "      <td>124</td>\n",
       "      <td>Pengguna_124</td>\n",
       "      <td>26</td>\n",
       "      <td>Bandung</td>\n",
       "      <td>86377074</td>\n",
       "      <td>Pending</td>\n",
       "      <td>2023-05-05</td>\n",
       "    </tr>\n",
       "  </tbody>\n",
       "</table>\n",
       "</div>"
      ]
     },
     "execution_count": 3,
     "metadata": {},
     "output_type": "execute_result"
    }
   ],
   "execution_count": 3
  },
  {
   "metadata": {
    "ExecuteTime": {
     "end_time": "2025-09-30T02:53:12.432614Z",
     "start_time": "2025-09-30T02:53:12.429123Z"
    }
   },
   "cell_type": "code",
   "source": [
    "# Cek ukuran dataset\n",
    "\n",
    "print(\"Ukuran dataset (baris, kolom):\", df_bermasalah.shape)\n",
    "\n",
    "# Cek jumlah total elemen data\n",
    "print(\"Jumlah total elemen data:\", df_bermasalah.size)"
   ],
   "id": "3acbfc1877453525",
   "outputs": [
    {
     "name": "stdout",
     "output_type": "stream",
     "text": [
      "Ukuran dataset (baris, kolom): (160, 7)\n",
      "Jumlah total elemen data: 1120\n"
     ]
    }
   ],
   "execution_count": 4
  },
  {
   "metadata": {
    "ExecuteTime": {
     "end_time": "2025-09-30T02:53:13.963039Z",
     "start_time": "2025-09-30T02:53:13.958455Z"
    }
   },
   "cell_type": "code",
   "source": [
    "# Cek missing values\n",
    "missing_values = df_bermasalah.isnull().sum()\n",
    "print(\"Jumlah missing values per kolom:\")\n",
    "print(missing_values)\n"
   ],
   "id": "9f1f01c54f649344",
   "outputs": [
    {
     "name": "stdout",
     "output_type": "stream",
     "text": [
      "Jumlah missing values per kolom:\n",
      "ID                 0\n",
      "Nama               0\n",
      "Usia               0\n",
      "Kota               0\n",
      "Pendapatan         0\n",
      "Status            16\n",
      "Tanggal Daftar     0\n",
      "dtype: int64\n"
     ]
    }
   ],
   "execution_count": 5
  },
  {
   "metadata": {
    "ExecuteTime": {
     "end_time": "2025-09-30T03:01:58.153578Z",
     "start_time": "2025-09-30T03:01:58.097693Z"
    }
   },
   "cell_type": "code",
   "source": [
    "# Cek duplikasi data\n",
    "duplicate_rows = df_bermasalah.duplicated().sum()\n",
    "\n",
    "print(\"Jumlah baris duplikat:\", duplicate_rows)\n",
    "\n",
    "# Jika ada baris duplikat, tampilkan beberapa baris duplikat pertama\n",
    "\n",
    "if duplicate_rows > 0:\n",
    "    print(\"Beberapa baris duplikat:\")\n",
    "    # print data duplicate dengan sort by ID\n",
    "    print(df_bermasalah[df_bermasalah.duplicated(keep=False)].sort_values(by='ID'))"
   ],
   "id": "c10ceecb2b30cde",
   "outputs": [
    {
     "name": "stdout",
     "output_type": "stream",
     "text": [
      "Jumlah baris duplikat: 10\n",
      "Beberapa baris duplikat:\n",
      "      ID          Nama  Usia      Kota  Pendapatan       Status Tanggal Daftar\n",
      "42     2    Pengguna_2    45   Bandung     9640118  Tidak Aktif     2023-02-10\n",
      "129    2    Pengguna_2    45   Bandung     9640118  Tidak Aktif     2023-02-10\n",
      "99    23   Pengguna_23    36   Jakarta     5437962      Pending     2023-06-29\n",
      "125   23   Pengguna_23    36   Jakarta     5437962      Pending     2023-06-29\n",
      "110   46   Pengguna_46    35  Semarang    13609354        Aktif     2023-08-30\n",
      "154   46   Pengguna_46    35  Semarang    13609354        Aktif     2023-08-30\n",
      "135   49   Pengguna_49    51  Semarang    18099831        Aktif     2023-11-25\n",
      "9     49   Pengguna_49    51  Semarang    18099831        Aktif     2023-11-25\n",
      "141   63   Pengguna_63    20  Surabaya    12742482        Aktif     2023-05-02\n",
      "34    63   Pengguna_63    20  Surabaya    12742482        Aktif     2023-05-02\n",
      "127   65   Pengguna_65    57   Jakarta    16360831        Aktif     2023-02-13\n",
      "88    65   Pengguna_65    57   Jakarta    16360831        Aktif     2023-02-13\n",
      "152   78   Pengguna_78    37   Jakarta     5968085        Aktif     2023-10-27\n",
      "76    78   Pengguna_78    37   Jakarta     5968085        Aktif     2023-10-27\n",
      "54    89   Pengguna_89    27   Bandung    17464535        Aktif     2023-03-29\n",
      "156   89   Pengguna_89    27   Bandung    17464535        Aktif     2023-03-29\n",
      "114  106  Pengguna_106    39  Surabaya    14324301          NaN     2023-01-07\n",
      "142  106  Pengguna_106    39  Surabaya    14324301          NaN     2023-01-07\n",
      "41   146  Pengguna_146    45  Semarang    13493455        Aktif     2023-01-09\n",
      "95   146  Pengguna_146    45  Semarang    13493455        Aktif     2023-01-09\n"
     ]
    }
   ],
   "execution_count": 10
  },
  {
   "metadata": {
    "ExecuteTime": {
     "end_time": "2025-09-30T03:03:13.744532Z",
     "start_time": "2025-09-30T03:03:13.727239Z"
    }
   },
   "cell_type": "code",
   "source": [
    "# Cleaning data bermasalah\n",
    "\n",
    "# Menghapus baris duplikat\n",
    "df_bermasalah_cleaned = df_bermasalah.drop_duplicates().reset_index(drop=True)\n",
    "df_bermasalah_cleaned.index = df_bermasalah_cleaned.index + 1\n",
    "\n",
    "# Mengisi missing values\n",
    "df_bermasalah_cleaned = df_bermasalah_cleaned.ffill()\n",
    "\n",
    "# Menampilkan dataset yang sudah dibersihkan\n",
    "df_bermasalah_cleaned.head()\n",
    "\n",
    "# Cek ulang missing values dan duplikasi\n",
    "print(\"Jumlah missing values per kolom setelah pembersihan:\")\n",
    "print(df_bermasalah_cleaned.isnull().sum())\n",
    "\n",
    "duplocate_rows_after = df_bermasalah_cleaned.duplicated().sum()\n",
    "print(\"Jumlah baris duplikat setelah pembersihan:\", duplocate_rows_after)\n",
    "\n",
    "# Cek ukuran dataset setelah pembersihan\n",
    "print(\"Ukuran dataset setelah pembersihan (baris, kolom):\", df_bermasalah_cleaned.shape)\n",
    "\n",
    "# Urutkan berdasarkan kolom id\n",
    "df_bermasalah_cleaned = df_bermasalah_cleaned.sort_values(by='ID').reset_index(drop=True)\n",
    "df_bermasalah_cleaned.index = df_bermasalah_cleaned.index + 1\n",
    "\n",
    "df_bermasalah_cleaned"
   ],
   "id": "33abfbcfe01f353b",
   "outputs": [
    {
     "name": "stdout",
     "output_type": "stream",
     "text": [
      "Status yang tidak sesuai:\n",
      "      ID          Nama  Usia        Kota  Pendapatan Status Tanggal Daftar\n",
      "13    57   Pengguna_57    29  Yogyakarta    11336918    NaN     2023-08-22\n",
      "16   134  Pengguna_134    18   Palembang     4273781    NaN     2023-07-04\n",
      "22   127  Pengguna_127    25    Semarang    14984060    NaN     2023-12-12\n",
      "31    61   Pengguna_61    56    Semarang     8356753    NaN     2023-11-25\n",
      "50    84   Pengguna_84    55    Makassar    15726492    NaN     2023-10-13\n",
      "82    88   Pengguna_88    51     Bandung    11642087    NaN     2023-01-09\n",
      "96   137  Pengguna_137    22    Surabaya    12408194    NaN     2023-02-07\n",
      "103  144  Pengguna_144    18  Yogyakarta     3608061    NaN     2023-01-09\n",
      "105   93   Pengguna_93    37     bandung     8292937    NaN     2023-02-26\n",
      "113  106  Pengguna_106    39    Surabaya    14324301    NaN     2023-01-07\n",
      "119    7    Pengguna_7    55    Surabaya     5257395    NaN     2023-09-06\n",
      "127   36   Pengguna_36    37    Surabaya     3638609    NaN     2023-04-02\n",
      "136  141  Pengguna_141    58    Makassar    10345712    NaN     2023-07-16\n",
      "146    8    Pengguna_8    37    Semarang    19033280    NaN     2023-03-30\n",
      "149    1    Pengguna_1    29    Jakarta     15682130    NaN     2023-05-07\n",
      "Jumlah missing values per kolom setelah pembersihan:\n",
      "ID                0\n",
      "Nama              0\n",
      "Usia              0\n",
      "Kota              0\n",
      "Pendapatan        0\n",
      "Status            0\n",
      "Tanggal Daftar    0\n",
      "dtype: int64\n",
      "Jumlah baris duplikat setelah pembersihan: 0\n",
      "Ukuran dataset setelah pembersihan (baris, kolom): (150, 7)\n"
     ]
    },
    {
     "data": {
      "text/plain": [
       "      ID          Nama  Usia       Kota  Pendapatan       Status  \\\n",
       "1      1    Pengguna_1    29   Jakarta     15682130  Tidak Aktif   \n",
       "2      2    Pengguna_2    45    Bandung     9640118  Tidak Aktif   \n",
       "3      3    Pengguna_3    49   Surabaya     7341151  Tidak Aktif   \n",
       "4      4    Pengguna_4    49   Makassar    19426187        Aktif   \n",
       "5      5    Pengguna_5    49    Jakarta    13180447  Tidak Aktif   \n",
       "..   ...           ...   ...        ...         ...          ...   \n",
       "146  146  Pengguna_146    45   Semarang    13493455        Aktif   \n",
       "147  147  Pengguna_147    27   Jakarta      7691923        Aktif   \n",
       "148  148  Pengguna_148    48    Bandung    19604676      Pending   \n",
       "149  149  Pengguna_149    34  Palembang     7734185        Aktif   \n",
       "150  150  Pengguna_150    26      Medan     3148508      Pending   \n",
       "\n",
       "    Tanggal Daftar  \n",
       "1       2023-05-07  \n",
       "2       2023-02-10  \n",
       "3       2023-09-11  \n",
       "4       2023-02-17  \n",
       "5       2023-01-31  \n",
       "..             ...  \n",
       "146     2023-01-09  \n",
       "147     2023-11-30  \n",
       "148     2023-10-02  \n",
       "149     2023-04-18  \n",
       "150     2023-08-29  \n",
       "\n",
       "[150 rows x 7 columns]"
      ],
      "text/html": [
       "<div>\n",
       "<style scoped>\n",
       "    .dataframe tbody tr th:only-of-type {\n",
       "        vertical-align: middle;\n",
       "    }\n",
       "\n",
       "    .dataframe tbody tr th {\n",
       "        vertical-align: top;\n",
       "    }\n",
       "\n",
       "    .dataframe thead th {\n",
       "        text-align: right;\n",
       "    }\n",
       "</style>\n",
       "<table border=\"1\" class=\"dataframe\">\n",
       "  <thead>\n",
       "    <tr style=\"text-align: right;\">\n",
       "      <th></th>\n",
       "      <th>ID</th>\n",
       "      <th>Nama</th>\n",
       "      <th>Usia</th>\n",
       "      <th>Kota</th>\n",
       "      <th>Pendapatan</th>\n",
       "      <th>Status</th>\n",
       "      <th>Tanggal Daftar</th>\n",
       "    </tr>\n",
       "  </thead>\n",
       "  <tbody>\n",
       "    <tr>\n",
       "      <th>1</th>\n",
       "      <td>1</td>\n",
       "      <td>Pengguna_1</td>\n",
       "      <td>29</td>\n",
       "      <td>Jakarta</td>\n",
       "      <td>15682130</td>\n",
       "      <td>Tidak Aktif</td>\n",
       "      <td>2023-05-07</td>\n",
       "    </tr>\n",
       "    <tr>\n",
       "      <th>2</th>\n",
       "      <td>2</td>\n",
       "      <td>Pengguna_2</td>\n",
       "      <td>45</td>\n",
       "      <td>Bandung</td>\n",
       "      <td>9640118</td>\n",
       "      <td>Tidak Aktif</td>\n",
       "      <td>2023-02-10</td>\n",
       "    </tr>\n",
       "    <tr>\n",
       "      <th>3</th>\n",
       "      <td>3</td>\n",
       "      <td>Pengguna_3</td>\n",
       "      <td>49</td>\n",
       "      <td>Surabaya</td>\n",
       "      <td>7341151</td>\n",
       "      <td>Tidak Aktif</td>\n",
       "      <td>2023-09-11</td>\n",
       "    </tr>\n",
       "    <tr>\n",
       "      <th>4</th>\n",
       "      <td>4</td>\n",
       "      <td>Pengguna_4</td>\n",
       "      <td>49</td>\n",
       "      <td>Makassar</td>\n",
       "      <td>19426187</td>\n",
       "      <td>Aktif</td>\n",
       "      <td>2023-02-17</td>\n",
       "    </tr>\n",
       "    <tr>\n",
       "      <th>5</th>\n",
       "      <td>5</td>\n",
       "      <td>Pengguna_5</td>\n",
       "      <td>49</td>\n",
       "      <td>Jakarta</td>\n",
       "      <td>13180447</td>\n",
       "      <td>Tidak Aktif</td>\n",
       "      <td>2023-01-31</td>\n",
       "    </tr>\n",
       "    <tr>\n",
       "      <th>...</th>\n",
       "      <td>...</td>\n",
       "      <td>...</td>\n",
       "      <td>...</td>\n",
       "      <td>...</td>\n",
       "      <td>...</td>\n",
       "      <td>...</td>\n",
       "      <td>...</td>\n",
       "    </tr>\n",
       "    <tr>\n",
       "      <th>146</th>\n",
       "      <td>146</td>\n",
       "      <td>Pengguna_146</td>\n",
       "      <td>45</td>\n",
       "      <td>Semarang</td>\n",
       "      <td>13493455</td>\n",
       "      <td>Aktif</td>\n",
       "      <td>2023-01-09</td>\n",
       "    </tr>\n",
       "    <tr>\n",
       "      <th>147</th>\n",
       "      <td>147</td>\n",
       "      <td>Pengguna_147</td>\n",
       "      <td>27</td>\n",
       "      <td>Jakarta</td>\n",
       "      <td>7691923</td>\n",
       "      <td>Aktif</td>\n",
       "      <td>2023-11-30</td>\n",
       "    </tr>\n",
       "    <tr>\n",
       "      <th>148</th>\n",
       "      <td>148</td>\n",
       "      <td>Pengguna_148</td>\n",
       "      <td>48</td>\n",
       "      <td>Bandung</td>\n",
       "      <td>19604676</td>\n",
       "      <td>Pending</td>\n",
       "      <td>2023-10-02</td>\n",
       "    </tr>\n",
       "    <tr>\n",
       "      <th>149</th>\n",
       "      <td>149</td>\n",
       "      <td>Pengguna_149</td>\n",
       "      <td>34</td>\n",
       "      <td>Palembang</td>\n",
       "      <td>7734185</td>\n",
       "      <td>Aktif</td>\n",
       "      <td>2023-04-18</td>\n",
       "    </tr>\n",
       "    <tr>\n",
       "      <th>150</th>\n",
       "      <td>150</td>\n",
       "      <td>Pengguna_150</td>\n",
       "      <td>26</td>\n",
       "      <td>Medan</td>\n",
       "      <td>3148508</td>\n",
       "      <td>Pending</td>\n",
       "      <td>2023-08-29</td>\n",
       "    </tr>\n",
       "  </tbody>\n",
       "</table>\n",
       "<p>150 rows × 7 columns</p>\n",
       "</div>"
      ]
     },
     "execution_count": 12,
     "metadata": {},
     "output_type": "execute_result"
    }
   ],
   "execution_count": 12
  },
  {
   "metadata": {},
   "cell_type": "markdown",
   "source": "",
   "id": "be46313c938f745c"
  }
 ],
 "metadata": {
  "kernelspec": {
   "display_name": "Python 3",
   "language": "python",
   "name": "python3"
  },
  "language_info": {
   "codemirror_mode": {
    "name": "ipython",
    "version": 2
   },
   "file_extension": ".py",
   "mimetype": "text/x-python",
   "name": "python",
   "nbconvert_exporter": "python",
   "pygments_lexer": "ipython2",
   "version": "2.7.6"
  }
 },
 "nbformat": 4,
 "nbformat_minor": 5
}
