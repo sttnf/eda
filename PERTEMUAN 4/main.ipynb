{
 "cells": [
  {
   "cell_type": "code",
   "id": "initial_id",
   "metadata": {
    "collapsed": true,
    "ExecuteTime": {
     "end_time": "2025-10-21T03:47:34.905854Z",
     "start_time": "2025-10-21T03:47:34.879493Z"
    }
   },
   "source": [
    "import pandas as pd\n",
    "\n",
    "df = pd.read_excel(\"./DATA/contoh_data_bermasalah.xlsx\")\n",
    "\n",
    "# df.info()\n",
    "\n",
    "print(f\"Ukuran dataset sebelum pembersihan akhir: {df.shape}\")\n",
    "\n",
    "check_dup = df.duplicated().sum()\n",
    "\n",
    "print(f\"Jumlah baris yang memiliki duplikat: {check_dup.sum()}\")\n",
    "\n",
    "# Drop duplicate\n",
    "df = df.drop_duplicates()\n",
    "\n",
    "print(f\"Ukuran dataset setelah pembersihan duplikat: {df.shape}\")\n",
    "print(f\"Jumlah missing values pada kolom Status: {df['Status'].isnull().sum()}\")\n",
    "\n",
    "# Drop status null\n",
    "df = df.dropna(subset=[\"Status\"]).copy()\n",
    "\n",
    "print(f\"Ukuran dataset setelah pembersihan missing value: {df.shape}\")\n",
    "\n",
    "# df.head()"
   ],
   "outputs": [
    {
     "name": "stdout",
     "output_type": "stream",
     "text": [
      "Ukuran dataset sebelum pembersihan akhir: (160, 7)\n",
      "Jumlah baris yang memiliki duplikat: 10\n",
      "Ukuran dataset setelah pembersihan duplikat: (150, 7)\n",
      "Jumlah missing values pada kolom Status: 15\n",
      "Ukuran dataset setelah pembersihan missing value: (135, 7)\n"
     ]
    }
   ],
   "execution_count": 167
  },
  {
   "metadata": {
    "ExecuteTime": {
     "end_time": "2025-10-21T03:29:10.970999Z",
     "start_time": "2025-10-21T03:29:10.967486Z"
    }
   },
   "cell_type": "code",
   "source": [
    "missing_values = df.isnull().sum()\n",
    "print(\"Jumlah missing values per kolom:\")\n",
    "print(missing_values)"
   ],
   "id": "e18fd40e75947457",
   "outputs": [
    {
     "name": "stdout",
     "output_type": "stream",
     "text": [
      "Jumlah missing values per kolom:\n",
      "ID                 0\n",
      "Nama               0\n",
      "Usia               0\n",
      "Kota               0\n",
      "Pendapatan         0\n",
      "Status            16\n",
      "Tanggal Daftar     0\n",
      "dtype: int64\n"
     ]
    }
   ],
   "execution_count": 137
  },
  {
   "metadata": {
    "ExecuteTime": {
     "end_time": "2025-10-21T03:10:41.144311Z",
     "start_time": "2025-10-21T03:10:41.141403Z"
    }
   },
   "cell_type": "code",
   "source": [
    "status_mode = df['Status'].mode()[0]\n",
    "\n",
    "print(f\"Modus dari kolom Status adalah: {status_mode}\")"
   ],
   "id": "5ccb83e93ec14d83",
   "outputs": [
    {
     "name": "stdout",
     "output_type": "stream",
     "text": [
      "Modus dari kolom Status adalah: Aktif\n"
     ]
    }
   ],
   "execution_count": 56
  },
  {
   "metadata": {
    "ExecuteTime": {
     "end_time": "2025-10-21T03:10:41.160501Z",
     "start_time": "2025-10-21T03:10:41.157316Z"
    }
   },
   "cell_type": "code",
   "source": [
    "df['Status'] = df['Status'].fillna(status_mode)\n",
    "missing_values_after_fill = df['Status'].isnull().sum()\n",
    "print(f\"Jumlah missing values pada kolom Status setelah diisi: {missing_values_after_fill}\")"
   ],
   "id": "bf331a71fe055a3a",
   "outputs": [
    {
     "name": "stdout",
     "output_type": "stream",
     "text": [
      "Jumlah missing values pada kolom Status setelah diisi: 0\n"
     ]
    }
   ],
   "execution_count": 57
  },
  {
   "metadata": {
    "ExecuteTime": {
     "end_time": "2025-10-21T03:33:05.488801Z",
     "start_time": "2025-10-21T03:33:05.472823Z"
    }
   },
   "cell_type": "code",
   "source": [
    "duplicate_rows_count = df.duplicated().sum()\n",
    "print(\"Jumlah baris duplikat:\", duplicate_rows_count)\n",
    "\n",
    "if duplicate_rows_count > 0:\n",
    "    print(\"Menghapus baris duplikat\")\n",
    "    df = df.drop_duplicates()\n",
    "\n",
    "duplicate_rows_after = df.duplicated().sum()\n",
    "print(\"Jumlah baris duplikat setelah dihapus:\", duplicate_rows_after)\n",
    "\n",
    "df.head()"
   ],
   "id": "af5d144d0a2d926e",
   "outputs": [
    {
     "name": "stdout",
     "output_type": "stream",
     "text": [
      "Jumlah baris duplikat: 10\n",
      "Menghapus baris duplikat\n",
      "Jumlah baris duplikat setelah dihapus: 0\n"
     ]
    },
    {
     "data": {
      "text/plain": [
       "    ID          Nama  Usia        Kota  Pendapatan       Status Tanggal Daftar\n",
       "0  118  Pengguna_118    51  Yogyakarta     9819256        Aktif     2023-06-26\n",
       "1   29   Pengguna_29    37     Jakarta     4991886        Aktif     2023-07-20\n",
       "2  119  Pengguna_119    31       Medan    19094979        Aktif     2023-05-17\n",
       "3   44   Pengguna_44    54    Makassar    15843052  Tidak Aktif     2023-05-10\n",
       "4  124  Pengguna_124    26     Bandung    86377074      Pending     2023-05-05"
      ],
      "text/html": [
       "<div>\n",
       "<style scoped>\n",
       "    .dataframe tbody tr th:only-of-type {\n",
       "        vertical-align: middle;\n",
       "    }\n",
       "\n",
       "    .dataframe tbody tr th {\n",
       "        vertical-align: top;\n",
       "    }\n",
       "\n",
       "    .dataframe thead th {\n",
       "        text-align: right;\n",
       "    }\n",
       "</style>\n",
       "<table border=\"1\" class=\"dataframe\">\n",
       "  <thead>\n",
       "    <tr style=\"text-align: right;\">\n",
       "      <th></th>\n",
       "      <th>ID</th>\n",
       "      <th>Nama</th>\n",
       "      <th>Usia</th>\n",
       "      <th>Kota</th>\n",
       "      <th>Pendapatan</th>\n",
       "      <th>Status</th>\n",
       "      <th>Tanggal Daftar</th>\n",
       "    </tr>\n",
       "  </thead>\n",
       "  <tbody>\n",
       "    <tr>\n",
       "      <th>0</th>\n",
       "      <td>118</td>\n",
       "      <td>Pengguna_118</td>\n",
       "      <td>51</td>\n",
       "      <td>Yogyakarta</td>\n",
       "      <td>9819256</td>\n",
       "      <td>Aktif</td>\n",
       "      <td>2023-06-26</td>\n",
       "    </tr>\n",
       "    <tr>\n",
       "      <th>1</th>\n",
       "      <td>29</td>\n",
       "      <td>Pengguna_29</td>\n",
       "      <td>37</td>\n",
       "      <td>Jakarta</td>\n",
       "      <td>4991886</td>\n",
       "      <td>Aktif</td>\n",
       "      <td>2023-07-20</td>\n",
       "    </tr>\n",
       "    <tr>\n",
       "      <th>2</th>\n",
       "      <td>119</td>\n",
       "      <td>Pengguna_119</td>\n",
       "      <td>31</td>\n",
       "      <td>Medan</td>\n",
       "      <td>19094979</td>\n",
       "      <td>Aktif</td>\n",
       "      <td>2023-05-17</td>\n",
       "    </tr>\n",
       "    <tr>\n",
       "      <th>3</th>\n",
       "      <td>44</td>\n",
       "      <td>Pengguna_44</td>\n",
       "      <td>54</td>\n",
       "      <td>Makassar</td>\n",
       "      <td>15843052</td>\n",
       "      <td>Tidak Aktif</td>\n",
       "      <td>2023-05-10</td>\n",
       "    </tr>\n",
       "    <tr>\n",
       "      <th>4</th>\n",
       "      <td>124</td>\n",
       "      <td>Pengguna_124</td>\n",
       "      <td>26</td>\n",
       "      <td>Bandung</td>\n",
       "      <td>86377074</td>\n",
       "      <td>Pending</td>\n",
       "      <td>2023-05-05</td>\n",
       "    </tr>\n",
       "  </tbody>\n",
       "</table>\n",
       "</div>"
      ]
     },
     "execution_count": 153,
     "metadata": {},
     "output_type": "execute_result"
    }
   ],
   "execution_count": 153
  },
  {
   "metadata": {
    "ExecuteTime": {
     "end_time": "2025-10-21T03:25:47.919715Z",
     "start_time": "2025-10-21T03:25:47.910346Z"
    }
   },
   "cell_type": "code",
   "source": [
    "categorical_cols = df.select_dtypes(include=\"object\").columns\n",
    "print(\"Memeriksa nilai unik dan distribusi untuk kolom kategorikal:\")\n",
    "for col in categorical_cols:\n",
    "    print(f\"\\nKolom: {col}\")\n",
    "    print(df[col].value_counts())\n",
    "numerical_cols = df.select_dtypes(include=[\"int64\", \"float64\"]).columns\n",
    "\n",
    "print(\"\\nMemeriksa statistik deskriptif untuk kolom numerikal:\")\n",
    "print(df[numerical_cols].describe())"
   ],
   "id": "9b491d62e9766b1d",
   "outputs": [
    {
     "name": "stdout",
     "output_type": "stream",
     "text": [
      "Memeriksa nilai unik dan distribusi untuk kolom kategorikal:\n",
      "\n",
      "Kolom: Nama\n",
      "Nama\n",
      "Pengguna_118    1\n",
      "Pengguna_29     1\n",
      "Pengguna_119    1\n",
      "Pengguna_44     1\n",
      "Pengguna_124    1\n",
      "               ..\n",
      "Pengguna_8      1\n",
      "Pengguna_35     1\n",
      "Pengguna_13     1\n",
      "Pengguna_1      1\n",
      "Pengguna_69     1\n",
      "Name: count, Length: 150, dtype: int64\n",
      "\n",
      "Kolom: Kota\n",
      "Kota\n",
      "Surabaya      27\n",
      "Palembang     20\n",
      "Semarang      18\n",
      "Makassar      16\n",
      "Jakarta       14\n",
      "Yogyakarta    13\n",
      "Jakarta       13\n",
      "Bandung       12\n",
      "Medan          9\n",
      "bandung        8\n",
      "Name: count, dtype: int64\n",
      "\n",
      "Kolom: Status\n",
      "Status\n",
      "Aktif          61\n",
      "Tidak Aktif    54\n",
      "Pending        20\n",
      "Name: count, dtype: int64\n",
      "\n",
      "Memeriksa statistik deskriptif untuk kolom numerikal:\n",
      "               ID        Usia    Pendapatan\n",
      "count  150.000000  150.000000  1.500000e+02\n",
      "mean    75.500000   38.280000  1.362082e+07\n",
      "std     43.445368   12.720073  1.181358e+07\n",
      "min      1.000000   18.000000  3.148508e+06\n",
      "25%     38.250000   27.000000  7.722654e+06\n",
      "50%     75.500000   37.000000  1.188468e+07\n",
      "75%    112.750000   50.000000  1.608329e+07\n",
      "max    150.000000   59.000000  8.637707e+07\n"
     ]
    }
   ],
   "execution_count": 125
  },
  {
   "metadata": {
    "ExecuteTime": {
     "end_time": "2025-10-21T03:19:10.625189Z",
     "start_time": "2025-10-21T03:19:10.620190Z"
    }
   },
   "cell_type": "code",
   "source": [
    "df[\"Kota\"] = df[\"Kota\"].str.lower().str.strip()\n",
    "\n",
    "print(\"Distribusi kolom 'Kota':\")\n",
    "print(df[\"Kota\"].value_counts())"
   ],
   "id": "e62e4130ba64f470",
   "outputs": [
    {
     "name": "stdout",
     "output_type": "stream",
     "text": [
      "Distribusi kolom 'Kota':\n",
      "Kota\n",
      "jakarta       30\n",
      "surabaya      29\n",
      "bandung       22\n",
      "semarang      21\n",
      "palembang     20\n",
      "makassar      16\n",
      "yogyakarta    13\n",
      "medan          9\n",
      "Name: count, dtype: int64\n"
     ]
    }
   ],
   "execution_count": 104
  },
  {
   "metadata": {
    "ExecuteTime": {
     "end_time": "2025-10-21T03:10:41.330817Z",
     "start_time": "2025-10-21T03:10:41.229204Z"
    }
   },
   "cell_type": "code",
   "source": [
    "import matplotlib.pyplot as plt\n",
    "import seaborn as sns\n",
    "\n",
    "numerical_cols_outliers = [\"Usia\", \"Pendapatan\"]\n",
    "plt.figure(figsize=(10, 5))\n",
    "\n",
    "for i, col in enumerate(numerical_cols_outliers):\n",
    "    plt.subplot(1, 2, i + 1)\n",
    "    sns.boxplot(data=df, y=col)\n",
    "    plt.title(f\"Boxplot of {col}\")\n",
    "    plt.ylabel(col)\n",
    "plt.tight_layout()\n",
    "plt.show()"
   ],
   "id": "76d2a5d50909ccf",
   "outputs": [
    {
     "data": {
      "text/plain": [
       "<Figure size 1000x500 with 2 Axes>"
      ],
      "image/png": "[encoded data removed]"
     },
     "metadata": {},
     "output_type": "display_data"
    }
   ],
   "execution_count": 61
  },
  {
   "metadata": {
    "ExecuteTime": {
     "end_time": "2025-10-21T03:10:41.405929Z",
     "start_time": "2025-10-21T03:10:41.339928Z"
    }
   },
   "cell_type": "code",
   "source": [
    "upper_limit = 20_000_000\n",
    "df[\"Pendapatan\"] = df[\"Pendapatan\"].clip(\n",
    "    upper=upper_limit\n",
    ")\n",
    "\n",
    "print(f\"Statistik deskriptif untuk kolom 'Pendapatan' setelah di-clip:\")\n",
    "\n",
    "print(df[\"Pendapatan\"].describe())\n",
    "\n",
    "plt.figure(figsize=(5, 5))\n",
    "sns.boxplot(data=df, y=\"Pendapatan\")\n",
    "plt.title(\"Boxplot of 'Pendapatan'\")\n",
    "plt.ylabel(\"Pendapatan\")\n",
    "plt.tight_layout()\n",
    "plt.show()"
   ],
   "id": "e877f2c3033309ff",
   "outputs": [
    {
     "name": "stdout",
     "output_type": "stream",
     "text": [
      "Statistik deskriptif untuk kolom 'Pendapatan' setelah di-clip:\n",
      "count    1.600000e+02\n",
      "mean     1.197345e+07\n",
      "std      4.876602e+06\n",
      "min      3.148508e+06\n",
      "25%      7.730341e+06\n",
      "50%      1.233055e+07\n",
      "75%      1.614232e+07\n",
      "max      2.000000e+07\n",
      "Name: Pendapatan, dtype: float64\n"
     ]
    },
    {
     "data": {
      "text/plain": [
       "<Figure size 500x500 with 1 Axes>"
      ],
      "image/png": "[encoded data removed]"
     },
     "metadata": {},
     "output_type": "display_data"
    }
   ],
   "execution_count": 62
  },
  {
   "metadata": {
    "ExecuteTime": {
     "end_time": "2025-10-21T03:19:16.243289Z",
     "start_time": "2025-10-21T03:19:16.235844Z"
    }
   },
   "cell_type": "code",
   "source": [
    "df[\"Tanggal Daftar\"] = pd.to_datetime(df[\"Tanggal Daftar\"])\n",
    "df[\"Tahun Daftar\"] = df[\"Tanggal Daftar\"].dt.year\n",
    "df[\"Bulan Daftar\"] = df[\"Tanggal Daftar\"].dt.month\n",
    "df[\"Hari Daftar\"] = df[\"Tanggal Daftar\"].dt.day\n",
    "\n",
    "df.head()"
   ],
   "id": "a4b2d6ef52d252e7",
   "outputs": [
    {
     "data": {
      "text/plain": [
       "    ID          Nama  Usia        Kota  Pendapatan       Status  \\\n",
       "0  118  Pengguna_118    51  yogyakarta     9819256        Aktif   \n",
       "1   29   Pengguna_29    37     jakarta     4991886        Aktif   \n",
       "2  119  Pengguna_119    31       medan    19094979        Aktif   \n",
       "3   44   Pengguna_44    54    makassar    15843052  Tidak Aktif   \n",
       "4  124  Pengguna_124    26     bandung    86377074      Pending   \n",
       "\n",
       "  Tanggal Daftar  Tahun Daftar  Bulan Daftar  Hari Daftar  \n",
       "0     2023-06-26          2023             6           26  \n",
       "1     2023-07-20          2023             7           20  \n",
       "2     2023-05-17          2023             5           17  \n",
       "3     2023-05-10          2023             5           10  \n",
       "4     2023-05-05          2023             5            5  "
      ],
      "text/html": [
       "<div>\n",
       "<style scoped>\n",
       "    .dataframe tbody tr th:only-of-type {\n",
       "        vertical-align: middle;\n",
       "    }\n",
       "\n",
       "    .dataframe tbody tr th {\n",
       "        vertical-align: top;\n",
       "    }\n",
       "\n",
       "    .dataframe thead th {\n",
       "        text-align: right;\n",
       "    }\n",
       "</style>\n",
       "<table border=\"1\" class=\"dataframe\">\n",
       "  <thead>\n",
       "    <tr style=\"text-align: right;\">\n",
       "      <th></th>\n",
       "      <th>ID</th>\n",
       "      <th>Nama</th>\n",
       "      <th>Usia</th>\n",
       "      <th>Kota</th>\n",
       "      <th>Pendapatan</th>\n",
       "      <th>Status</th>\n",
       "      <th>Tanggal Daftar</th>\n",
       "      <th>Tahun Daftar</th>\n",
       "      <th>Bulan Daftar</th>\n",
       "      <th>Hari Daftar</th>\n",
       "    </tr>\n",
       "  </thead>\n",
       "  <tbody>\n",
       "    <tr>\n",
       "      <th>0</th>\n",
       "      <td>118</td>\n",
       "      <td>Pengguna_118</td>\n",
       "      <td>51</td>\n",
       "      <td>yogyakarta</td>\n",
       "      <td>9819256</td>\n",
       "      <td>Aktif</td>\n",
       "      <td>2023-06-26</td>\n",
       "      <td>2023</td>\n",
       "      <td>6</td>\n",
       "      <td>26</td>\n",
       "    </tr>\n",
       "    <tr>\n",
       "      <th>1</th>\n",
       "      <td>29</td>\n",
       "      <td>Pengguna_29</td>\n",
       "      <td>37</td>\n",
       "      <td>jakarta</td>\n",
       "      <td>4991886</td>\n",
       "      <td>Aktif</td>\n",
       "      <td>2023-07-20</td>\n",
       "      <td>2023</td>\n",
       "      <td>7</td>\n",
       "      <td>20</td>\n",
       "    </tr>\n",
       "    <tr>\n",
       "      <th>2</th>\n",
       "      <td>119</td>\n",
       "      <td>Pengguna_119</td>\n",
       "      <td>31</td>\n",
       "      <td>medan</td>\n",
       "      <td>19094979</td>\n",
       "      <td>Aktif</td>\n",
       "      <td>2023-05-17</td>\n",
       "      <td>2023</td>\n",
       "      <td>5</td>\n",
       "      <td>17</td>\n",
       "    </tr>\n",
       "    <tr>\n",
       "      <th>3</th>\n",
       "      <td>44</td>\n",
       "      <td>Pengguna_44</td>\n",
       "      <td>54</td>\n",
       "      <td>makassar</td>\n",
       "      <td>15843052</td>\n",
       "      <td>Tidak Aktif</td>\n",
       "      <td>2023-05-10</td>\n",
       "      <td>2023</td>\n",
       "      <td>5</td>\n",
       "      <td>10</td>\n",
       "    </tr>\n",
       "    <tr>\n",
       "      <th>4</th>\n",
       "      <td>124</td>\n",
       "      <td>Pengguna_124</td>\n",
       "      <td>26</td>\n",
       "      <td>bandung</td>\n",
       "      <td>86377074</td>\n",
       "      <td>Pending</td>\n",
       "      <td>2023-05-05</td>\n",
       "      <td>2023</td>\n",
       "      <td>5</td>\n",
       "      <td>5</td>\n",
       "    </tr>\n",
       "  </tbody>\n",
       "</table>\n",
       "</div>"
      ]
     },
     "execution_count": 105,
     "metadata": {},
     "output_type": "execute_result"
    }
   ],
   "execution_count": 105
  },
  {
   "metadata": {
    "ExecuteTime": {
     "end_time": "2025-10-21T03:27:33.152313Z",
     "start_time": "2025-10-21T03:27:33.147313Z"
    }
   },
   "cell_type": "code",
   "source": [
    "print(f\"Ukuran dataset sebelum dihapus: {df.shape}\")\n",
    "\n",
    "missing_values_before_drop = df[\"Status\"].isnull().sum()\n",
    "print(f\"Jumlah missing values pada kolom Status sebelum dihapus: {missing_values_before_drop}\")\n",
    "\n",
    "df = df.dropna(subset=[\"Status\"]).copy()\n",
    "\n",
    "missing_values_after_drop = df[\"Status\"].isnull().sum()\n",
    "print(f\"Jumlah missing values pada kolom Status setelah dihapus: {missing_values_after_drop}\")\n",
    "\n",
    "print(f\"Ukuran dataset setelah dihapus: {df.shape}\")"
   ],
   "id": "63c9c5925d61632a",
   "outputs": [
    {
     "name": "stdout",
     "output_type": "stream",
     "text": [
      "Ukuran dataset sebelum dihapus: (135, 7)\n",
      "Jumlah missing values pada kolom Status sebelum dihapus: 0\n",
      "Jumlah missing values pada kolom Status setelah dihapus: 0\n",
      "Ukuran dataset setelah dihapus: (135, 7)\n"
     ]
    }
   ],
   "execution_count": 128
  },
  {
   "metadata": {
    "ExecuteTime": {
     "end_time": "2025-10-21T03:25:21.698694Z",
     "start_time": "2025-10-21T03:25:21.689686Z"
    }
   },
   "cell_type": "code",
   "source": [
    "upper_limit = 20_000_000\n",
    "\n",
    "rows_before_drop = df.shape[0]\n",
    "print(f\"Jumlah baris sebelum dihapus: {rows_before_drop}\")\n",
    "\n",
    "df = df[df[\"Pendapatan\"] <= upper_limit].copy()\n",
    "\n",
    "rows_after_drop = df.shape[0]\n",
    "print(f\"Jumlah baris setelah dihapus: {rows_after_drop}\")\n",
    "print(f\"Jumlah outlier yang dihapus: {rows_before_drop - rows_after_drop}\")\n",
    "\n",
    "print(\"Statistik deskriptif untuk 'Pendapatan' setelah outlier dihapus:\")\n",
    "print(df[\"Pendapatan\"].describe())\n",
    "\n",
    "df.head()"
   ],
   "id": "8b6be0e076f6375c",
   "outputs": [
    {
     "name": "stdout",
     "output_type": "stream",
     "text": [
      "Jumlah baris sebelum dihapus: 150\n",
      "Jumlah baris setelah dihapus: 145\n",
      "Jumlah outlier yang dihapus: 5\n",
      "Statistik deskriptif untuk 'Pendapatan' setelah outlier dihapus:\n",
      "count    1.450000e+02\n",
      "mean     1.164559e+07\n",
      "std      4.758943e+06\n",
      "min      3.148508e+06\n",
      "25%      7.709702e+06\n",
      "50%      1.164209e+07\n",
      "75%      1.572649e+07\n",
      "max      1.960468e+07\n",
      "Name: Pendapatan, dtype: float64\n"
     ]
    },
    {
     "data": {
      "text/plain": [
       "    ID          Nama  Usia        Kota  Pendapatan       Status Tanggal Daftar\n",
       "0  118  Pengguna_118    51  Yogyakarta     9819256        Aktif     2023-06-26\n",
       "1   29   Pengguna_29    37     Jakarta     4991886        Aktif     2023-07-20\n",
       "2  119  Pengguna_119    31       Medan    19094979        Aktif     2023-05-17\n",
       "3   44   Pengguna_44    54    Makassar    15843052  Tidak Aktif     2023-05-10\n",
       "4  124  Pengguna_124    26     Bandung    86377074      Pending     2023-05-05"
      ],
      "text/html": [
       "<div>\n",
       "<style scoped>\n",
       "    .dataframe tbody tr th:only-of-type {\n",
       "        vertical-align: middle;\n",
       "    }\n",
       "\n",
       "    .dataframe tbody tr th {\n",
       "        vertical-align: top;\n",
       "    }\n",
       "\n",
       "    .dataframe thead th {\n",
       "        text-align: right;\n",
       "    }\n",
       "</style>\n",
       "<table border=\"1\" class=\"dataframe\">\n",
       "  <thead>\n",
       "    <tr style=\"text-align: right;\">\n",
       "      <th></th>\n",
       "      <th>ID</th>\n",
       "      <th>Nama</th>\n",
       "      <th>Usia</th>\n",
       "      <th>Kota</th>\n",
       "      <th>Pendapatan</th>\n",
       "      <th>Status</th>\n",
       "      <th>Tanggal Daftar</th>\n",
       "    </tr>\n",
       "  </thead>\n",
       "  <tbody>\n",
       "    <tr>\n",
       "      <th>0</th>\n",
       "      <td>118</td>\n",
       "      <td>Pengguna_118</td>\n",
       "      <td>51</td>\n",
       "      <td>Yogyakarta</td>\n",
       "      <td>9819256</td>\n",
       "      <td>Aktif</td>\n",
       "      <td>2023-06-26</td>\n",
       "    </tr>\n",
       "    <tr>\n",
       "      <th>1</th>\n",
       "      <td>29</td>\n",
       "      <td>Pengguna_29</td>\n",
       "      <td>37</td>\n",
       "      <td>Jakarta</td>\n",
       "      <td>4991886</td>\n",
       "      <td>Aktif</td>\n",
       "      <td>2023-07-20</td>\n",
       "    </tr>\n",
       "    <tr>\n",
       "      <th>2</th>\n",
       "      <td>119</td>\n",
       "      <td>Pengguna_119</td>\n",
       "      <td>31</td>\n",
       "      <td>Medan</td>\n",
       "      <td>19094979</td>\n",
       "      <td>Aktif</td>\n",
       "      <td>2023-05-17</td>\n",
       "    </tr>\n",
       "    <tr>\n",
       "      <th>3</th>\n",
       "      <td>44</td>\n",
       "      <td>Pengguna_44</td>\n",
       "      <td>54</td>\n",
       "      <td>Makassar</td>\n",
       "      <td>15843052</td>\n",
       "      <td>Tidak Aktif</td>\n",
       "      <td>2023-05-10</td>\n",
       "    </tr>\n",
       "    <tr>\n",
       "      <th>4</th>\n",
       "      <td>124</td>\n",
       "      <td>Pengguna_124</td>\n",
       "      <td>26</td>\n",
       "      <td>Bandung</td>\n",
       "      <td>86377074</td>\n",
       "      <td>Pending</td>\n",
       "      <td>2023-05-05</td>\n",
       "    </tr>\n",
       "  </tbody>\n",
       "</table>\n",
       "</div>"
      ]
     },
     "execution_count": 120,
     "metadata": {},
     "output_type": "execute_result"
    }
   ],
   "execution_count": 120
  },
  {
   "metadata": {
    "ExecuteTime": {
     "end_time": "2025-10-21T03:25:27.499469Z",
     "start_time": "2025-10-21T03:25:27.496346Z"
    }
   },
   "cell_type": "code",
   "source": "print(df.shape)",
   "id": "634c4fae216f3938",
   "outputs": [
    {
     "name": "stdout",
     "output_type": "stream",
     "text": [
      "(145, 7)\n"
     ]
    }
   ],
   "execution_count": 121
  },
  {
   "metadata": {
    "ExecuteTime": {
     "end_time": "2025-10-21T03:28:35.077211Z",
     "start_time": "2025-10-21T03:28:35.056652Z"
    }
   },
   "cell_type": "code",
   "source": [
    "output_file_name = \"D:/KULIAH/SEMESTER 3/EXPLORATORY DATA ANALYSIS/PERTEMUAN 5/DATA/data_bersih_drop.xlsx\"\n",
    "df.to_excel(output_file_name, index=False)\n",
    "\n",
    "print(f\"Ukuran dataset yang sudah dibersihkan: {df.shape}\")\n",
    "\n",
    "print(f\"Dataset yang sudah dibersihkan telah disimpan ke file: {output_file_name}\")"
   ],
   "id": "ae20cf24881056f",
   "outputs": [
    {
     "name": "stdout",
     "output_type": "stream",
     "text": [
      "Ukuran dataset yang sudah dibersihkan: (135, 7)\n",
      "Dataset yang sudah dibersihkan telah disimpan ke file: D:/KULIAH/SEMESTER 3/EXPLORATORY DATA ANALYSIS/PERTEMUAN 5/DATA/data_bersih_drop.xlsx\n"
     ]
    }
   ],
   "execution_count": 135
  },
  {
   "metadata": {
    "ExecuteTime": {
     "end_time": "2025-10-21T03:33:25.410371Z",
     "start_time": "2025-10-21T03:33:25.399914Z"
    }
   },
   "cell_type": "code",
   "source": [
    "print(f\"Ukuran dataset sebelum pembersihan akhir: {df.shape}\")\n",
    "\n",
    "# Hapus missing values pada kolom 'Status'\n",
    "df = df.dropna(subset=[\"Status\"]).copy()\n",
    "\n",
    "print(f\"Ukuran dataset setelah pembersihan missing value: {df.shape}\")\n",
    "\n",
    "# # Hapus outlier pada kolom 'Pendapatan'\n",
    "# df = df[df[\"Pendapatan\"] <= upper_limit].copy()\n",
    "\n",
    "# Hapus duplikat\n",
    "check_dup = df.duplicated().sum()\n",
    "print(f\"Jumlah baris yang memiliki duplikat: {check_dup.sum()}\")\n",
    "df = df.drop_duplicates()\n",
    "\n",
    "print(f\"Ukuran dataset setelah pembersihan duplikat: {df.shape}\")\n",
    "\n",
    "print(f\"Ukuran dataset setelah pembersihan akhir: {df.shape}\")"
   ],
   "id": "447978e03cec6c60",
   "outputs": [
    {
     "name": "stdout",
     "output_type": "stream",
     "text": [
      "Ukuran dataset sebelum pembersihan akhir: (160, 7)\n",
      "Ukuran dataset setelah pembersihan missing value: (144, 7)\n",
      "Jumlah baris yang memiliki duplikat: 9\n",
      "Ukuran dataset setelah pembersihan duplikat: (135, 7)\n",
      "Ukuran dataset setelah pembersihan akhir: (135, 7)\n"
     ]
    }
   ],
   "execution_count": 155
  }
 ],
 "metadata": {
  "kernelspec": {
   "display_name": "Python 3",
   "language": "python",
   "name": "python3"
  },
  "language_info": {
   "codemirror_mode": {
    "name": "ipython",
    "version": 2
   },
   "file_extension": ".py",
   "mimetype": "text/x-python",
   "name": "python",
   "nbconvert_exporter": "python",
   "pygments_lexer": "ipython2",
   "version": "2.7.6"
  }
 },
 "nbformat": 4,
 "nbformat_minor": 5
}
